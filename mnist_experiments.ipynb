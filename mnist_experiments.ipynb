{
 "cells": [
  {
   "cell_type": "code",
   "execution_count": 1,
   "metadata": {},
   "outputs": [
    {
     "name": "stderr",
     "output_type": "stream",
     "text": [
      "Using TensorFlow backend.\n"
     ]
    },
    {
     "data": {
      "text/html": [
       "        <script type=\"text/javascript\">\n",
       "        window.PlotlyConfig = {MathJaxConfig: 'local'};\n",
       "        if (window.MathJax) {MathJax.Hub.Config({SVG: {font: \"STIX-Web\"}});}\n",
       "        if (typeof require !== 'undefined') {\n",
       "        require.undef(\"plotly\");\n",
       "        requirejs.config({\n",
       "            paths: {\n",
       "                'plotly': ['https://cdn.plot.ly/plotly-latest.min']\n",
       "            }\n",
       "        });\n",
       "        require(['plotly'], function(Plotly) {\n",
       "            window._Plotly = Plotly;\n",
       "        });\n",
       "        }\n",
       "        </script>\n",
       "        "
      ]
     },
     "metadata": {},
     "output_type": "display_data"
    },
    {
     "data": {
      "text/html": [
       "        <script type=\"text/javascript\">\n",
       "        window.PlotlyConfig = {MathJaxConfig: 'local'};\n",
       "        if (window.MathJax) {MathJax.Hub.Config({SVG: {font: \"STIX-Web\"}});}\n",
       "        if (typeof require !== 'undefined') {\n",
       "        require.undef(\"plotly\");\n",
       "        requirejs.config({\n",
       "            paths: {\n",
       "                'plotly': ['https://cdn.plot.ly/plotly-latest.min']\n",
       "            }\n",
       "        });\n",
       "        require(['plotly'], function(Plotly) {\n",
       "            window._Plotly = Plotly;\n",
       "        });\n",
       "        }\n",
       "        </script>\n",
       "        "
      ]
     },
     "metadata": {},
     "output_type": "display_data"
    }
   ],
   "source": [
    "import numpy as np\n",
    "import tensorflow as tf\n",
    "import metrics as metrics\n",
    "import Diffusion as df\n",
    "import os.path\n",
    "from autoencoder import *\n",
    "import plotting as plotting\n",
    "import matplotlib.pyplot as plt\n",
    "from mpl_toolkits.mplot3d import Axes3D\n",
    "import keras\n",
    "from keras.utils import np_utils, to_categorical\n",
    "from keras.layers import Dense, Input, Flatten, Lambda\n",
    "from keras.models import Model, Sequential\n",
    "from keras import regularizers\n",
    "from keras.datasets import mnist\n",
    "from keras_adabound import AdaBound\n",
    "from keras.layers.normalization import BatchNormalization\n",
    "import keras.backend as K\n",
    "from sklearn.neighbors import NearestNeighbors\n",
    "from IPython.core.debugger import set_trace\n",
    "import random\n",
    "import plotly.plotly as py\n",
    "import plotly.graph_objs as go\n",
    "from plotly.offline import init_notebook_mode, plot, iplot\n",
    "init_notebook_mode(connected=True)\n",
    "from scipy.spatial.distance import pdist\n",
    "import time\n",
    "from utils import *"
   ]
  },
  {
   "cell_type": "code",
   "execution_count": 2,
   "metadata": {},
   "outputs": [],
   "source": [
    "np.random.seed(123)"
   ]
  },
  {
   "cell_type": "markdown",
   "metadata": {},
   "source": [
    "# Load the dataset\n",
    "Using the MNIST dataset to train an autoencoder that uses the diffusion map in the embedded space. \n",
    "\n",
    "An image is 28x28 pixels, i.e. 784 dimensions.\n",
    "\n",
    "There are 60 000 training examples and 10 000 test examples. Here we downsample to 1 000 in training.  "
   ]
  },
  {
   "cell_type": "code",
   "execution_count": 3,
   "metadata": {},
   "outputs": [
    {
     "data": {
      "image/png": "[encoded data removed]",
      "text/plain": [
       "<Figure size 432x288 with 1 Axes>"
      ]
     },
     "metadata": {
      "needs_background": "light"
     },
     "output_type": "display_data"
    }
   ],
   "source": [
    "(x_train_full, y_train_full),(x_test_full, y_test_full) = mnist.load_data()\n",
    "\n",
    "\n",
    "def subsample_data(x_train, y_train, x_test, y_test, num_train, num_test=0):\n",
    "    train_idx = np.random.choice(x_train.shape[0], num_train, replace=False)\n",
    "    test_idx = np.random.choice(x_test.shape[0], num_test, replace=False)\n",
    "    x_train = x_train[train_idx,:,:]\n",
    "    y_train = y_train[train_idx]\n",
    "    x_test = x_test[test_idx,:,:]\n",
    "    y_test = y_test[test_idx]\n",
    "    return (x_train, y_train),(x_test, y_test)\n",
    "\n",
    "\n",
    "def preprocess_data(x_train, x_test):\n",
    "    x_train = x_train.astype(\"float\")/255.0\n",
    "    x_test = x_test.astype(\"float\")/255.0\n",
    "    x_train = x_train.reshape(x_train.shape[0], x_train.shape[1]*x_train.shape[2])\n",
    "    x_test = x_test.reshape(x_test.shape[0], x_test.shape[1]*x_test.shape[2])\n",
    "    return (x_train, x_test)\n",
    "\n",
    "\n",
    "num_train = 1000\n",
    "num_test = 100\n",
    "(x_train, y_train),(x_test, y_test) = subsample_data(x_train_full, y_train_full, x_test_full, y_test_full,\n",
    "                                                     num_train=num_train, num_test=num_test)\n",
    "plt.imshow(x_train[int(np.random.choice(100, 1))], cmap=\"Greys\")\n",
    "x_train, x_test = preprocess_data(x_train, x_test)"
   ]
  },
  {
   "cell_type": "markdown",
   "metadata": {},
   "source": [
    "## Metric\n",
    "The dimensionality reduction can have two different purposes: classification and manifold learning. For manifold learning we seek parameters that best capture the manifold's intrinsic structure. For classification, we want to select parameters that is optimal with respect the the classification results. \n",
    "\n",
    "There are several parameters to select in the diffusion map, all affecting the success of the embedding space. In a classification setting, the selected parameters depend on the training data and the model at hand. Thus, in principle there may to be possible to define \"optimal\" parameters independently of the data. It is possible to apply the classifier directly to obtain a loss used on cross validatation, but then one have to reapply the model for each parameter. It is therefore beneficial to have a metric that reflects the quality of the embedding without having to apply a classifier model.\n",
    "\n",
    "In [5](https://arxiv.org/pdf/1707.01093.pdf) they adress the selection of the scale parameter in the Gaussian kernel for both manifold learning and classification. \n",
    "\n",
    "We start with the metrics for classification. Dimensionality reduction can drastically improve classification results [ref], and the parameters playes a crucial role in the performance of the kernel methods for dimensionality reduction. They propose three methods for estimating the scale parameter\n",
    "\n",
    "* The geometric approach\n",
    "* The probabilistic approach\n",
    "* The spectral approach. \n",
    "\n"
   ]
  },
  {
   "cell_type": "code",
   "execution_count": 4,
   "metadata": {},
   "outputs": [],
   "source": [
    "sigmas = np.linspace(1, 100, 20)\n",
    "met = {\"geometric\": [], \"spectral\": [], \"probabilistic\": []}\n",
    "for sigma in sigmas:\n",
    "    embed, _, eig = df.diffusion_map(x_train, k=9, dim=3, sigma=sigma)\n",
    "    met = metrics.get_metrics(y_train, met = met, embedding=embed, x_train=x_train, \n",
    "                              eig=eig, sigma=sigma, k=9, ref_neighbor=3)"
   ]
  },
  {
   "cell_type": "code",
   "execution_count": 5,
   "metadata": {},
   "outputs": [
    {
     "data": {
      "image/png": "[encoded data removed]",
      "text/plain": [
       "<Figure size 432x288 with 1 Axes>"
      ]
     },
     "metadata": {
      "needs_background": "light"
     },
     "output_type": "display_data"
    }
   ],
   "source": [
    "fig, ax = plt.subplots()\n",
    "ax.plot(sigmas, met[\"geometric\"], label=\"Geometric\")\n",
    "ax.plot(sigmas, met[\"spectral\"], label=\"Spectral\")\n",
    "ax.plot(sigmas, met[\"probabilistic\"], label=\"Probabilistic\")\n",
    "ax.legend()\n",
    "plt.show()"
   ]
  },
  {
   "cell_type": "markdown",
   "metadata": {},
   "source": [
    "### Scale parameter / KNN parameter\n",
    "Both the scale parameter and the number of neighbors in KNN affects the locality in the kernel.  "
   ]
  },
  {
   "cell_type": "markdown",
   "metadata": {},
   "source": [
    "We'll first try out the default setting for the scale parameter, the median. "
   ]
  },
  {
   "cell_type": "code",
   "execution_count": null,
   "metadata": {
    "scrolled": true
   },
   "outputs": [],
   "source": [
    "embed_train_median, _, eig_median = df.diffusion_map(x_train, k=9, dim=3, sigma=0)\n",
    "plotting.plot_3d_interactive(embed_train_median, y_train)\n",
    "print(metrics.get_metrics(y_train, embedding=embed_train_median, x_train=x_train, eig=eig_median, sigma=0, k=9))"
   ]
  },
  {
   "cell_type": "markdown",
   "metadata": {},
   "source": [
    "Now we try with the self tuning scale parameter."
   ]
  },
  {
   "cell_type": "code",
   "execution_count": 9,
   "metadata": {
    "scrolled": false
   },
   "outputs": [
    {
     "name": "stdout",
     "output_type": "stream",
     "text": [
      "{'geometric': 0.5732126086633137, 'spectral': 0.016384125951115047, 'probabilistic': 0.5575875722682474}\n"
     ]
    }
   ],
   "source": [
    "embed_train_adap, _, eig_adap = df.diffusion_map(x_train, k=9, dim=3, sigma=\"adaptive\", ref_neighbor=3)\n",
    "print(metrics.get_metrics(y_train, embedding=embed_train_adap, x_train=x_train, eig=eig_adap, sigma=\"adaptive\", k=9,\n",
    "                         ref_neighbor=3))"
   ]
  },
  {
   "cell_type": "markdown",
   "metadata": {},
   "source": [
    "The plots using self tuning scale parameter and the median look really similar, but rotated. The values where manually inspected to check if the results where in fact equivalent, but they where not. One could also see this be plotting the difference. Use the function `plot_3d_interactive` to plot in 3d and inspect. \n",
    "\n",
    "Since the self tuning scale parameter uses the local neighborhood, it might be better to increase the number of neighbors in the KNN affinity matrix. We also test using all of the points in the KNN search, and compare using the all points in the median scale parameter. "
   ]
  },
  {
   "cell_type": "code",
   "execution_count": 11,
   "metadata": {
    "scrolled": true
   },
   "outputs": [
    {
     "name": "stdout",
     "output_type": "stream",
     "text": [
      "{'geometric': 0.27405417497488865, 'spectral': 0.016384125951115047, 'probabilistic': 0.40807547174804093}\n"
     ]
    }
   ],
   "source": [
    "embed_train_adap_100, _, eig_adap_100 = df.diffusion_map(x_train, k=100, dim=3, sigma=\"adaptive\", ref_neighbor=3)\n",
    "print(metrics.get_metrics(y_train, embedding=embed_train_adap_100, x_train=x_train, eig=eig_adap_100, sigma=\"adaptive\", k=9,\n",
    "                         ref_neighbor=3))"
   ]
  },
  {
   "cell_type": "markdown",
   "metadata": {},
   "source": [
    "Now test with using all the points in the affinity matrix."
   ]
  },
  {
   "cell_type": "code",
   "execution_count": 12,
   "metadata": {
    "scrolled": true
   },
   "outputs": [
    {
     "name": "stdout",
     "output_type": "stream",
     "text": [
      "{'geometric': 0.24004268339664347, 'spectral': 0.016384125951115047, 'probabilistic': 0.121114324212938}\n"
     ]
    }
   ],
   "source": [
    "embed_train_adap_all, _ , eig_adap_all = df.diffusion_map(x_train, k=x_train.shape[0], dim=3, sigma=\"adaptive\", \n",
    "                                                          ref_neighbor = 3)\n",
    "print(metrics.get_metrics(y_train, embedding=embed_train_adap_all, x_train=x_train, eig=eig_adap_all, sigma=\"adaptive\",\n",
    "                          k=9,ref_neighbor=3))"
   ]
  },
  {
   "cell_type": "code",
   "execution_count": 16,
   "metadata": {
    "scrolled": false
   },
   "outputs": [
    {
     "name": "stdout",
     "output_type": "stream",
     "text": [
      "{'geometric': 0.2187965726172235, 'spectral': 0.00029657233513803467, 'probabilistic': 0.11263160999053941}\n"
     ]
    }
   ],
   "source": [
    "embed_train_median_all, _, eig_median_all = df.diffusion_map(x_train, k=x_train.shape[0], dim=3, sigma=0)\n",
    "print(metrics.get_metrics(y_train, embedding=embed_train_median_all, x_train=x_train, eig=eig_median_all, \n",
    "                          sigma=0, k=9))"
   ]
  },
  {
   "cell_type": "markdown",
   "metadata": {},
   "source": [
    "It is clear that using more points in the KNN search is not benefintial for when the scale is median is constant. This is because we loose information about the local environment."
   ]
  },
  {
   "cell_type": "markdown",
   "metadata": {},
   "source": [
    "We'll now try to find a global parameter according to the method proposed by Singer et al. "
   ]
  },
  {
   "cell_type": "code",
   "execution_count": 18,
   "metadata": {},
   "outputs": [],
   "source": [
    "sigmas_log =  np.linspace(-1, 5, 20) \n",
    "sigmas = np.exp(sigmas_log)\n",
    "Ls = []\n",
    "for sigma in sigmas:\n",
    "    _, affinity, _ = df.diffusion_map(x_train, k=x_train.shape[0], dim=3, sigma=sigma, ref_neighbor=7)\n",
    "    Ls.append(affinity.sum())"
   ]
  },
  {
   "cell_type": "code",
   "execution_count": 20,
   "metadata": {},
   "outputs": [
    {
     "data": {
      "image/png": "[encoded data removed]",
      "text/plain": [
       "<Figure size 432x288 with 1 Axes>"
      ]
     },
     "metadata": {
      "needs_background": "light"
     },
     "output_type": "display_data"
    }
   ],
   "source": [
    "plt.loglog(sigmas, Ls)\n",
    "plt.axvline(x=2.5)\n",
    "plt.show()"
   ]
  },
  {
   "cell_type": "code",
   "execution_count": 23,
   "metadata": {
    "scrolled": true
   },
   "outputs": [
    {
     "name": "stdout",
     "output_type": "stream",
     "text": [
      "{'geometric': 0.2187965726172235, 'spectral': 0.00029657233513803467, 'probabilistic': 0.11263160999053941}\n"
     ]
    }
   ],
   "source": [
    "embed_train_global, _, eig_global = df.diffusion_map(x_train, k=9, dim=3, sigma=2.5)\n",
    "print(metrics.get_metrics(y_train, embedding=embed_train_median_all, x_train=x_train, eig=eig_median_all, \n",
    "                          sigma=2.5, k=9))"
   ]
  },
  {
   "cell_type": "markdown",
   "metadata": {},
   "source": [
    "## Inspecting eigenvalues\n",
    "\n",
    "Let's inspect the eigenvalues by first looking at the magnitude of the sorted values. The largest eigenvalue is 1 since $P$ is a transition matrix. A significant gap between eigenvalues would indicate how many eigenvalues to select in the diffusion map. We do this analysis for different values of sizes of the dataset $N$. "
   ]
  },
  {
   "cell_type": "code",
   "execution_count": 26,
   "metadata": {},
   "outputs": [
    {
     "data": {
      "image/png": "[encoded data removed]",
      "text/plain": [
       "<Figure size 432x288 with 1 Axes>"
      ]
     },
     "metadata": {
      "needs_background": "light"
     },
     "output_type": "display_data"
    },
    {
     "data": {
      "image/png": "[encoded data removed]",
      "text/plain": [
       "<Figure size 432x288 with 1 Axes>"
      ]
     },
     "metadata": {
      "needs_background": "light"
     },
     "output_type": "display_data"
    }
   ],
   "source": [
    "dataset_sizes = [500, 1000]\n",
    "\n",
    "fig1, ax1 = plt.subplots()\n",
    "fig2, ax2 = plt.subplots()\n",
    "\n",
    "for size in dataset_sizes:\n",
    "    (x_train_new, _),(x_test_new, _) = subsample_data(x_train_full, y_train_full, x_test_full, y_test_full, size)\n",
    "    x_train_inspect, x_test_inspect = preprocess_data(x_train_new, x_test_new)\n",
    "    _, _, eig = df.diffusion_map(x_train_inspect, k=9, dim=1, sigma=5)\n",
    "    \n",
    "    plotting.plot_eigenvalues(eig, ax=ax1, label=f\"N={size}\", show=False)\n",
    "    \n",
    "    plotting.plot_distance_ratio_sum(eig, ax=ax2, label=f\"N={size}\", show=False)\n",
    "    \n",
    "    # plotting.plot_distance_ratio_min(eig, ax=ax2, label=f\"N={size}\", show=False)\n",
    "\n",
    "\n",
    "ax1.set_title(\"Ordered eigenvalues\")\n",
    "ax1.legend()\n",
    "\n",
    "ax2.set_title(\"Distance ratio\")\n",
    "ax2.legend()\n",
    "plt.show()"
   ]
  },
  {
   "cell_type": "markdown",
   "metadata": {},
   "source": [
    "### Step parameter\n",
    "Now let's experiment with the time parameter $t$ that decides number of steps in the Markov chain defined by the transition matrix $P$. More specifically, the diffusion metric between $x_i$ and $x_j$ sums the probabilities of all possible paths of length $t$ between $x_i$ and $x_j$. "
   ]
  },
  {
   "cell_type": "code",
   "execution_count": null,
   "metadata": {
    "scrolled": true
   },
   "outputs": [],
   "source": [
    "embed_train_global_t2, _, _ = df.diffusion_map(x_train, k=9, dim=embedding_size, sigma=5, t=2)\n",
    "plot_3d_interactive(embed_train_global_t2)"
   ]
  },
  {
   "cell_type": "code",
   "execution_count": null,
   "metadata": {
    "scrolled": true
   },
   "outputs": [],
   "source": [
    "embed_train_global_t50, _, _ = df.diffusion_map(x_train, k=9, dim=embedding_size, sigma=5, t=50)\n",
    "plot_3d_interactive(embed_train_global_t50)"
   ]
  },
  {
   "cell_type": "markdown",
   "metadata": {},
   "source": [
    "### Kernel\n",
    "Finally, lets test with another kernel. We'll use the Lapacian kernel defined by\n",
    "$$\n",
    "k(x_i, x_j) = \\exp\\Big( - \\frac{||x_i-x_j||_1}{\\sigma} \\Big).\n",
    "$$"
   ]
  },
  {
   "cell_type": "code",
   "execution_count": null,
   "metadata": {
    "scrolled": true
   },
   "outputs": [],
   "source": [
    "embed_train_global, _, P_global = df.diffusion_map(x_train, k=16, dim=embedding_size, sigma=5, kernel=\"laplacian\")\n",
    "plot_3d_interactive(embed_train_global.real)"
   ]
  },
  {
   "cell_type": "markdown",
   "metadata": {},
   "source": [
    "## Neural Nets"
   ]
  },
  {
   "cell_type": "code",
   "execution_count": 7,
   "metadata": {},
   "outputs": [],
   "source": [
    "(x_train_full, y_train_full),(x_test_full, y_test_full) = mnist.load_data()\n",
    "\n",
    "(x_train_nn, y_train_nn),(x_test_nn, y_test_nn) = subsample_data(x_train_full, y_train_full, x_test_full, y_test_full,\n",
    "                                                     num_train=10000, num_test=1000)\n",
    "\n",
    "x_train_nn, x_test_nn = preprocess_data(x_train_nn, x_test_nn)\n",
    "y_train_nn = to_categorical(y_train_nn, 10)\n",
    "y_test_nn = to_categorical(y_test_nn, 10)"
   ]
  },
  {
   "cell_type": "code",
   "execution_count": 6,
   "metadata": {},
   "outputs": [],
   "source": [
    "np.random.seed(124)\n",
    "class Classifier:\n",
    "    def __init__(self, reg=0):\n",
    "        model = Sequential()\n",
    "        # model.add(Flatten(input_shape=input_shape))\n",
    "        model.add(Dense(256, activation='relu', kernel_regularizer=regularizers.l2(reg)))\n",
    "        # BatchNormalization()\n",
    "        # model.add(Dense(128, activation='relu'))\n",
    "        model.add(Dense(10, activation='softmax'))\n",
    "        self.model = model\n",
    "        \n",
    "    def compile(self, optimizer=\"adam\", loss=\"mean_squared_error\", metrics=[\"accuracy\"]):\n",
    "        self.model.compile(optimizer=optimizer, loss=loss, metrics=metrics)\n",
    "        \n",
    "    def train(self, x_train, y_train, x_test, y_test, batch_size, epochs=100):\n",
    "        self.history = self.model.fit(x_train, y_train, batch_size=batch_size, epochs=epochs, verbose=0,\n",
    "          validation_data=(x_test, y_test), shuffle=True)\n",
    "        \n",
    "    def evaluate(self, x_test, y_test):\n",
    "        return self.model.evaluate(x_test, y_test)\n",
    "    \n",
    "    def plot_progress(self):\n",
    "        fig = plt.figure()\n",
    "        # Plot training & validation accuracy values\n",
    "        plt.subplot(1, 2, 1)\n",
    "        plt.plot(self.history.history['acc'])\n",
    "        plt.plot(self.history.history['val_acc'])\n",
    "        plt.title('Model accuracy')\n",
    "        plt.ylabel('Accuracy')\n",
    "        plt.xlabel('Epoch')\n",
    "        plt.legend(['Train', 'Test'], loc='lower right')\n",
    "\n",
    "        # Plot training & validation loss values\n",
    "        plt.subplot(1, 2, 2)\n",
    "        plt.plot(self.history.history['loss'])\n",
    "        plt.plot(self.history.history['val_loss'])\n",
    "        plt.title('Model loss')\n",
    "        plt.ylabel('Loss')\n",
    "        plt.xlabel('Epoch')\n",
    "        plt.legend(['Train', 'Test'], loc='upper right')\n",
    "        plt.show()"
   ]
  },
  {
   "cell_type": "markdown",
   "metadata": {},
   "source": [
    "First test with no dimension reduction using feed-forward, fully connected networks with no convolutional layers as a baseline. We have subsampled the data to 10000 training samples and 1000 test samples. This is done of practical considerations. We have used `Adam` as the optmizer due to its fast convergence using the default parameters (learning rate and momentum), and `categorical crossentropy` as our loss. \n",
    "\n",
    "#### Experiments with different models\n",
    "* For one `relu` hidden layer we experimented with different widths of the network. We also tested a `sigmoid` layer, but found that `relu` achieved higher accuracy in this case. There was not much difference between 800 units and 256, so we chose the latter. This model seems to converge after about 15 epochs. At that time it achieved an accuracy of 0.9640 on the test data. This model is saved as `dm_subsample10000_nodimred.h5`\n",
    "* We also tested a model with two hidden layers, tested both with `relu` and `sigmoid`, but didn't achieve a significant improvement. Also combined this with batch normalization. \n",
    "* We tested with different learning rates for `Adam` raning from 0.0005 to 0.01, and found that the default learning rate of 0.001 gave consistent good results. \n",
    "* Also tested with $\\mathcal{l}_2$ regularization."
   ]
  },
  {
   "cell_type": "code",
   "execution_count": null,
   "metadata": {
    "scrolled": true
   },
   "outputs": [],
   "source": [
    "dm_subsample_baseline = Classifier(reg=0.001)\n",
    "dm_subsample_baseline.compile(loss=\"categorical_crossentropy\")\n",
    "dm_subsample_baseline.model.optimizer.lr = 0.001\n",
    "dm_subsample_baseline.train(x_train_nn, y_train_nn, x_test_nn, y_test_nn, batch_size=128, epochs=15)\n",
    "dm_subsample_baseline.plot_progress()"
   ]
  },
  {
   "cell_type": "code",
   "execution_count": 72,
   "metadata": {},
   "outputs": [],
   "source": [
    "dm_subsample_nodimred.model.save(\"./Models/dm_subsample10000_nodimred.h5\")"
   ]
  },
  {
   "cell_type": "code",
   "execution_count": 10,
   "metadata": {},
   "outputs": [],
   "source": [
    "# Model with no dimred, full samples, 1 hidden layer w/ 800 units\n",
    "# full_model = keras.models.load_model(\"./Models/no_dimred.h5\")\n",
    "# full_model.summary()"
   ]
  },
  {
   "cell_type": "markdown",
   "metadata": {},
   "source": [
    "Now consider using diffusion maps as preprossessing of the data. \n",
    "\n",
    "First we check with using the median as the scale parameter. "
   ]
  },
  {
   "cell_type": "code",
   "execution_count": 15,
   "metadata": {},
   "outputs": [
    {
     "name": "stdout",
     "output_type": "stream",
     "text": [
      "done with train\n",
      "1697.4208750724792\n"
     ]
    }
   ],
   "source": [
    "start = time.time()\n",
    "embed_train_median, _, eig_train = df.diffusion_map(x_train_nn, k=9, dim=784, sigma=0)\n",
    "print(\"done with train\")\n",
    "embed_test_median, _, eig_test = df.diffusion_map(x_test_nn, k=9, dim=784, sigma=0)\n",
    "end = time.time()\n",
    "print(end - start)"
   ]
  },
  {
   "cell_type": "code",
   "execution_count": 16,
   "metadata": {},
   "outputs": [],
   "source": [
    "# save the embedding\n",
    "np.save(\"./Data/embedding_train_median_10000\", embed_train_median)\n",
    "np.save(\"./Data/embedding_test_median_10000\", embed_test_median)\n",
    "np.save(\"./Data/eig_train_median_10000\", eig_train)\n",
    "np.save(\"./Data/eig_test_median_10000\", eig_test)"
   ]
  },
  {
   "cell_type": "code",
   "execution_count": 5,
   "metadata": {},
   "outputs": [],
   "source": [
    "embed_test_median = np.load(\"./Data/embedding_test_median_1000.npy\")\n",
    "embed_train_median = np.load(\"./Data/embedding_train_median_10000.npy\")\n",
    "eig_train = np.load(\"./Data/eig_train_median_10000.npy\", allow_pickle=True).item()\n",
    "eig_test = np.load(\"./Data/eig_test_median_10000.npy\", allow_pickle=True).item()"
   ]
  },
  {
   "cell_type": "markdown",
   "metadata": {},
   "source": [
    "Notice that it takes a long time to compute the diffusion embedding. Most of the complexity comes from the eigendecomposition. It is therefore useful to learn an model/encoder that can compute the embedding for new samples instead of computing the whole diffusion map over again. \n",
    "\n",
    "Now let's train a network on the embedding coordinates. Our training data will then be the embedding coordinates. We can choose the embedding size and select the coordinates corresponding to the largest eigenvalues. However, for testing we need to encode the test data in the same space as the embedding space for the training data. Hence, we train another neural net model as the _encoder_.  \n",
    "\n",
    "First we need to define the eigenvalue regularizer. "
   ]
  },
  {
   "cell_type": "code",
   "execution_count": 6,
   "metadata": {},
   "outputs": [],
   "source": [
    "class EVRegularizer(regularizers.Regularizer):\n",
    "    def __init__(self, eig, eta=0.):\n",
    "        self.eta = K.cast_to_floatx(eta)\n",
    "        self.eig = eig\n",
    "\n",
    "    def __call__(self, x):\n",
    "        P = K.cast_to_floatx(self.eig[\"mat\"])\n",
    "        vals = K.cast_to_floatx(self.eig[\"vals\"])\n",
    "        m = P.shape[0]\n",
    "        # loss = self.eta / (2*m) * K.sum(K.dot((P - tf.linalg.diag(vals)), x))\n",
    "        loss = self.eta / (2*m) * K.sum(tf.norm(K.dot(P - tf.linalg.diag(vals), x), ord=2, axis=0)**2)\n",
    "        return loss\n",
    "\n",
    "    def get_config(self):\n",
    "        return {\"name\": self.__class__.__name__,\n",
    "               \"eta\": self.eta} \n",
    "    \n",
    "\n",
    "def ev_loss(ev_matricies, eta=0.):\n",
    "    ev_matricies = K.cast_to_floatx(ev_matricies)\n",
    "    m = ev_matricies[0].shape[0]\n",
    "    # loss = mse + ev_constraint\n",
    "    def loss(y_true, y_pred):\n",
    "        mse = K.mean(K.sum(K.square(y_true - y_pred), axis=1), axis=0)\n",
    "        ev = eta / m * K.sum([K.sum(K.square(K.dot(ev_mat, K.reshape(y_pred[:, i], (m, 1))))) \n",
    "                                       for i, ev_mat  in enumerate(ev_matricies)])\n",
    "        return mse + ev\n",
    "    return loss"
   ]
  },
  {
   "cell_type": "code",
   "execution_count": 7,
   "metadata": {},
   "outputs": [],
   "source": [
    "embedding_size = 32\n",
    "input_size = 784\n",
    "train_embed = embed_train_median[:, :embedding_size]\n",
    "test_embed = embed_test_median[:, :embedding_size]"
   ]
  },
  {
   "cell_type": "code",
   "execution_count": 14,
   "metadata": {},
   "outputs": [],
   "source": [
    "np.random.seed(124)\n",
    "\n",
    "class Encoder:\n",
    "    def __init__(self, reg=0., embedding_size=32):\n",
    "        model = Sequential()\n",
    "        # model.add(Flatten(input_shape=input_shape))\n",
    "        model.add(Dense(256, activation='relu', kernel_regularizer=regularizers.l2(reg)))\n",
    "        model.add(Dense(128, activation='relu', kernel_regularizer=regularizers.l2(reg)))\n",
    "        model.add(Dense(embedding_size, activation='linear', kernel_regularizer=regularizers.l2(reg)))\n",
    "        self.model = model\n",
    "\n",
    "    def compile(self, optimizer=\"adam\", loss=\"mean_squared_error\"):\n",
    "        self.model.compile(optimizer=optimizer, loss=loss)\n",
    "\n",
    "    def train(self, x_train, train_embed, batch_size, epochs=100, x_test=None, test_embed=None):\n",
    "        if x_test is None and test_embed is None:\n",
    "            self.history = self.model.fit(x_train, train_embed, batch_size=batch_size, epochs=epochs, verbose=1, \n",
    "                                          shuffle=True)\n",
    "        elif x_test is not None and test_embed is not None: \n",
    "            self.history = self.model.fit(x_train, train_embed, batch_size=batch_size, epochs=epochs, verbose=1, \n",
    "                                          shuffle=True, validation_data=(x_test, test_embed))\n",
    "        else:\n",
    "            raise Exception(\"Invalid input data\")\n",
    "\n",
    "    def plot_progress(self):\n",
    "        fig = plt.figure()\n",
    "\n",
    "        # Plot training & validation loss values\n",
    "        plt.subplot(1, 1, 1)\n",
    "        plt.plot(self.history.history['loss'])\n",
    "        plt.title(f'Model loss. Final train: {self.history.history[\"loss\"][-1]}')\n",
    "        plt.ylabel('Loss')\n",
    "        plt.xlabel('Epoch')\n",
    "        plt.legend(['Train'], loc='upper right')\n",
    "        plt.show() \n",
    "                  \n",
    "\n",
    "class Decoder:\n",
    "    def __init__(self, reg=0.):\n",
    "        model = Sequential()\n",
    "        # model.add(Flatten(input_shape=input_shape))\n",
    "        model.add(Dense(128, activation='relu', kernel_regularizer=regularizers.l2(reg)))\n",
    "        model.add(Dense(256, activation='relu', kernel_regularizer=regularizers.l2(reg)))\n",
    "        model.add(Dense(input_size, activation='linear', kernel_regularizer=regularizers.l1(reg)))\n",
    "        self.model = model\n",
    "\n",
    "    def compile(self, optimizer=\"adam\", loss=\"mean_squared_error\"):\n",
    "        self.model.compile(optimizer=optimizer, loss=loss)\n",
    "\n",
    "    def train(self, train_embed, x_train, batch_size, epochs=100):\n",
    "        self.history = self.model.fit(train_embed, x_train, batch_size=batch_size, epochs=epochs, verbose=0, \n",
    "                                      shuffle=True)\n",
    "\n",
    "    def plot_progress(self):\n",
    "        fig = plt.figure()\n",
    "\n",
    "        # Plot training & validation loss values\n",
    "        plt.subplot(1, 1, 1)\n",
    "        plt.plot(self.history.history['loss'])\n",
    "        plt.title(f'Model loss. Final train: {self.history.history[\"loss\"][-1]}')\n",
    "        plt.ylabel('Loss')\n",
    "        plt.xlabel('Epoch')\n",
    "        plt.legend(['Train'], loc='upper right')\n",
    "        plt.show() \n",
    "                     "
   ]
  },
  {
   "cell_type": "code",
   "execution_count": null,
   "metadata": {},
   "outputs": [],
   "source": [
    "vals = eig_train[\"vals\"]\n",
    "vals = np.sort(vals)[::-1]\n",
    "vals = vals[1:embedding_size]"
   ]
  },
  {
   "cell_type": "code",
   "execution_count": null,
   "metadata": {
    "scrolled": false
   },
   "outputs": [
    {
     "name": "stderr",
     "output_type": "stream",
     "text": [
      "WARNING: Logging before flag parsing goes to stderr.\n",
      "W0717 09:52:36.698418 4603999680 deprecation_wrapper.py:119] From /usr/local/lib/python3.7/site-packages/keras/backend/tensorflow_backend.py:74: The name tf.get_default_graph is deprecated. Please use tf.compat.v1.get_default_graph instead.\n",
      "\n",
      "W0717 09:52:40.006265 4603999680 deprecation_wrapper.py:119] From /usr/local/lib/python3.7/site-packages/keras/optimizers.py:790: The name tf.train.Optimizer is deprecated. Please use tf.compat.v1.train.Optimizer instead.\n",
      "\n",
      "W0717 09:52:40.524391 4603999680 deprecation_wrapper.py:119] From /usr/local/lib/python3.7/site-packages/keras/backend/tensorflow_backend.py:517: The name tf.placeholder is deprecated. Please use tf.compat.v1.placeholder instead.\n",
      "\n",
      "W0717 09:52:40.558571 4603999680 deprecation_wrapper.py:119] From /usr/local/lib/python3.7/site-packages/keras/backend/tensorflow_backend.py:4138: The name tf.random_uniform is deprecated. Please use tf.random.uniform instead.\n",
      "\n",
      "W0717 09:57:15.453164 4603999680 deprecation_wrapper.py:119] From /usr/local/lib/python3.7/site-packages/keras/backend/tensorflow_backend.py:986: The name tf.assign_add is deprecated. Please use tf.compat.v1.assign_add instead.\n",
      "\n",
      "W0717 09:57:15.714906 4603999680 deprecation_wrapper.py:119] From /usr/local/lib/python3.7/site-packages/keras/backend/tensorflow_backend.py:973: The name tf.assign is deprecated. Please use tf.compat.v1.assign instead.\n",
      "\n"
     ]
    },
    {
     "name": "stdout",
     "output_type": "stream",
     "text": [
      "Epoch 1/1\n"
     ]
    }
   ],
   "source": [
    "encoded_subsample = Encoder(reg=0., embedding_size=embedding_size)\n",
    "# encoded_subsample.compile(loss=ev_loss(eig_train, embedding_size, eta=1.), optimizer=\"adam\")\n",
    "encoded_subsample.compile(loss=\"mean_squared_error\", optimizer=\"adam\")\n",
    "encoded_subsample.train(x_train_nn, train_embed, batch_size=128, epochs=1)\n",
    "# encoded_subsample.plot_progress()"
   ]
  },
  {
   "cell_type": "markdown",
   "metadata": {},
   "source": [
    "When trying 10000 training samples and 1000 test samples, we observe that there is a large mismatch between the training and testing. We can think of two reasons for this.\n",
    "* Firstly, the embedding for training and testing is calculated seperately, and it does not make sense to calculate it together since the embedding will then be overly biased toward the test set. Ideally, the test and training set comes from the same \"manifold\", so that a trained model will predict the embedding for new points with high accuracy. To combat this problem, it may help to increase the training data in order to reduce the variance. \n",
    "* Secondly, it may be that the model is not able to capture the underlying embedding. \n",
    "* We'll try to use the full dataset to see if there is a improvement. \n",
    "\n",
    "Also, one idea is to train an decoder to validate of the model can reconstruct the images. \n",
    "\n",
    "First, let's train a model from the predicted embedding from the encoder."
   ]
  },
  {
   "cell_type": "code",
   "execution_count": 18,
   "metadata": {},
   "outputs": [
    {
     "data": {
      "image/png": "[encoded data removed]",
      "text/plain": [
       "<Figure size 432x288 with 1 Axes>"
      ]
     },
     "metadata": {
      "needs_background": "light"
     },
     "output_type": "display_data"
    }
   ],
   "source": [
    "predicted_embed_train = encoded_subsample.model.predict(x_train_nn)\n",
    "decoded_subsample = Decoder(reg=0.)\n",
    "decoded_subsample.compile(loss=\"mean_squared_error\", optimizer=\"adam\")\n",
    "decoded_subsample.train(predicted_embed_train, x_train_nn, batch_size=128, epochs=50)\n",
    "decoded_subsample.plot_progress()"
   ]
  },
  {
   "cell_type": "code",
   "execution_count": 19,
   "metadata": {},
   "outputs": [],
   "source": [
    "# obtain the reconstructed images\n",
    "reconstruct_subsample = decoded_subsample.model.predict(predicted_embed_train)\n",
    "# TODO: get final reconstruction loss"
   ]
  },
  {
   "cell_type": "markdown",
   "metadata": {},
   "source": [
    "Now we can train a decoder on the original diffusion map to compare with the autoencoder. "
   ]
  },
  {
   "cell_type": "code",
   "execution_count": 15,
   "metadata": {},
   "outputs": [
    {
     "name": "stderr",
     "output_type": "stream",
     "text": [
      "WARNING: Logging before flag parsing goes to stderr.\n",
      "W0715 10:20:40.817573 4353222080 deprecation_wrapper.py:119] From /usr/local/lib/python3.7/site-packages/keras/backend/tensorflow_backend.py:74: The name tf.get_default_graph is deprecated. Please use tf.compat.v1.get_default_graph instead.\n",
      "\n",
      "W0715 10:20:41.230181 4353222080 deprecation_wrapper.py:119] From /usr/local/lib/python3.7/site-packages/keras/optimizers.py:790: The name tf.train.Optimizer is deprecated. Please use tf.compat.v1.train.Optimizer instead.\n",
      "\n",
      "W0715 10:20:41.446236 4353222080 deprecation_wrapper.py:119] From /usr/local/lib/python3.7/site-packages/keras/backend/tensorflow_backend.py:517: The name tf.placeholder is deprecated. Please use tf.compat.v1.placeholder instead.\n",
      "\n",
      "W0715 10:20:41.487834 4353222080 deprecation_wrapper.py:119] From /usr/local/lib/python3.7/site-packages/keras/backend/tensorflow_backend.py:4138: The name tf.random_uniform is deprecated. Please use tf.random.uniform instead.\n",
      "\n",
      "W0715 10:20:41.891889 4353222080 deprecation_wrapper.py:119] From /usr/local/lib/python3.7/site-packages/keras/backend/tensorflow_backend.py:986: The name tf.assign_add is deprecated. Please use tf.compat.v1.assign_add instead.\n",
      "\n",
      "W0715 10:20:43.168159 4353222080 deprecation_wrapper.py:119] From /usr/local/lib/python3.7/site-packages/keras/backend/tensorflow_backend.py:973: The name tf.assign is deprecated. Please use tf.compat.v1.assign instead.\n",
      "\n"
     ]
    },
    {
     "data": {
      "image/png": "[encoded data removed]",
      "text/plain": [
       "<Figure size 432x288 with 1 Axes>"
      ]
     },
     "metadata": {
      "needs_background": "light"
     },
     "output_type": "display_data"
    }
   ],
   "source": [
    "decoded_subsample_dm = Decoder(reg=0.)\n",
    "decoded_subsample_dm.compile(loss=\"mean_squared_error\", optimizer=\"adam\")\n",
    "decoded_subsample_dm.train(train_embed, x_train_nn, batch_size=128, epochs=50)\n",
    "decoded_subsample_dm.plot_progress()"
   ]
  },
  {
   "cell_type": "code",
   "execution_count": 20,
   "metadata": {},
   "outputs": [],
   "source": [
    "reconstructed_subsample_dm = decoded_subsample_dm.model.predict(train_embed)"
   ]
  },
  {
   "cell_type": "markdown",
   "metadata": {},
   "source": [
    "Plot some samples to compare the orginal pictures to the reconstructed"
   ]
  },
  {
   "cell_type": "code",
   "execution_count": 137,
   "metadata": {},
   "outputs": [],
   "source": [
    "def plot_reconstructed_digits(original, reconstructed, embedding_sizes = None, ncol=10, save=False):\n",
    "    nrow = len(reconstructed) + 1\n",
    "    fig, axes = plt.subplots(ncols=ncol, nrows=nrow, figsize=(2*ncol, 2*nrow))\n",
    "    data = [original] + reconstructed\n",
    "    \n",
    "    for i in range(nrow):\n",
    "        for j in range(ncol):\n",
    "            # ax = plt.subplot(nrow, ncol, i+1+j*ncol)\n",
    "            axes[i, j].imshow(data[i][j].reshape((28, 28)))\n",
    "            plt.gray()\n",
    "            axes[i, j].get_xaxis().set_visible(False)\n",
    "            axes[i, j].get_yaxis().set_ticks([])\n",
    "    \n",
    "    if embedding_sizes is not None:\n",
    "        rownames = [\"Original\"] + [f\"m = {size}\" for size in embedding_sizes]\n",
    "        for ax, row in zip(axes[:,0], rownames):\n",
    "            ax.set_ylabel(row, rotation=90, size='large')\n",
    "    \n",
    "    fig.suptitle(\"Diffusion Net Reconstruction of MNIST\", fontsize=20)\n",
    "    if save:\n",
    "        plt.savefig(f\"./Pics/mnist_comparison{int(time.time())}.png\")\n",
    "    plt.show()"
   ]
  },
  {
   "cell_type": "code",
   "execution_count": 81,
   "metadata": {},
   "outputs": [
    {
     "data": {
      "image/png": "[encoded data removed]",
      "text/plain": [
       "<Figure size 1440x288 with 20 Axes>"
      ]
     },
     "metadata": {
      "needs_background": "light"
     },
     "output_type": "display_data"
    }
   ],
   "source": [
    "plot_reconstructed_digits(x_train_nn, reconstruct_subsample, save=False)"
   ]
  },
  {
   "cell_type": "code",
   "execution_count": 59,
   "metadata": {},
   "outputs": [],
   "source": [
    "# Define a function to compute the reconstruction loss for comparison\n",
    "def reconstruction_loss(original, reconstructed):\n",
    "    return 1 / 2 *np.mean(np.linalg.norm(original - reconstructed, axis=1)**2)"
   ]
  },
  {
   "cell_type": "code",
   "execution_count": 60,
   "metadata": {},
   "outputs": [
    {
     "name": "stdout",
     "output_type": "stream",
     "text": [
      "Reconstructed loss from embedding: 9.553235175006746\n",
      "Reconstructed loss from encoder: 9.61790132645575\n"
     ]
    }
   ],
   "source": [
    "print(f\"Reconstructed loss from embedding: {reconstruction_loss(x_train_nn, reconstructed_subsample_dm)}\")\n",
    "print(f\"Reconstructed loss from encoder: {reconstruction_loss(x_train_nn, reconstruct_subsample)}\")"
   ]
  },
  {
   "cell_type": "markdown",
   "metadata": {},
   "source": [
    "Comparing the decoded results from the computed embedding versus the predicted embedding, there is only a small difference. This indicated that the encoder preserves the information in the embedding. \n",
    "\n",
    "This result is computed with an embedding size of 32. We can do the same procedure with different embedding sizes to inspect the efficiency of the dimensionality reduction."
   ]
  },
  {
   "cell_type": "code",
   "execution_count": 91,
   "metadata": {},
   "outputs": [
    {
     "name": "stdout",
     "output_type": "stream",
     "text": [
      "encoder_4 done\n",
      "decoder_4 done\n",
      "encoder_16 done\n",
      "decoder_16 done\n",
      "encoder_64 done\n",
      "decoder_64 done\n",
      "encoder_256 done\n",
      "decoder_256 done\n",
      "encoder_784 done\n",
      "decoder_784 done\n"
     ]
    }
   ],
   "source": [
    "from collections import namedtuple\n",
    "\n",
    "embedding_sizes = [4, 16, 64, 256, 784]\n",
    "reconstruction_losses = []\n",
    "Autoencoder = namedtuple(\"Autoencoder\", [\"encoder\", \"decoder\"])\n",
    "autoencoders = []\n",
    "reconstructions = []\n",
    "\n",
    "for emb_size in embedding_sizes:\n",
    "    train_emb = embed_train_median[:, :emb_size]\n",
    "    encoded = Encoder(reg=0., embedding_size=emb_size)\n",
    "    encoded.compile(loss=\"mean_squared_error\", optimizer=\"adam\")\n",
    "    encoded.train(x_train_nn, train_emb, batch_size=128, epochs=20)\n",
    "    embed_pred = encoded.model.predict(x_train_nn)\n",
    "    print(f\"encoder_{emb_size} done\")\n",
    "    decoded = Decoder(reg=0.)\n",
    "    decoded.compile(loss=\"mean_squared_error\", optimizer=\"adam\")\n",
    "    decoded.train(embed_pred, x_train_nn, batch_size=128, epochs=20)\n",
    "    reconstructed = decoded.model.predict(embed_pred)\n",
    "    reconstructions.append(reconstructed)\n",
    "    print(f\"decoder_{emb_size} done\")\n",
    "    reconstruction_losses.append(reconstruction_loss(x_train_nn, reconstructed))\n",
    "    autoencoders.append(Autoencoder(encoder=encoded, decoder=decoded))"
   ]
  },
  {
   "cell_type": "code",
   "execution_count": 148,
   "metadata": {},
   "outputs": [],
   "source": [
    "# save and load\n",
    "np.save(\"./Data/reconstructions_subsample.npy\", reconstructions)"
   ]
  },
  {
   "cell_type": "code",
   "execution_count": 94,
   "metadata": {},
   "outputs": [
    {
     "data": {
      "image/png": "[encoded data removed]",
      "text/plain": [
       "<Figure size 432x288 with 1 Axes>"
      ]
     },
     "metadata": {
      "needs_background": "light"
     },
     "output_type": "display_data"
    }
   ],
   "source": [
    "plt.plot(embedding_sizes, reconstruction_losses)\n",
    "plt.xlabel(\"Embeddingsize\")\n",
    "plt.ylabel(\"MSE\")\n",
    "plt.show()"
   ]
  },
  {
   "cell_type": "code",
   "execution_count": 142,
   "metadata": {},
   "outputs": [
    {
     "data": {
      "image/png": "[encoded data removed]",
      "text/plain": [
       "<Figure size 1440x288 with 20 Axes>"
      ]
     },
     "metadata": {
      "needs_background": "light"
     },
     "output_type": "display_data"
    }
   ],
   "source": [
    "plot_reconstructed_digits(x_train_nn, [reconstructions[0]], embedding_sizes=[4], save=True)"
   ]
  },
  {
   "cell_type": "markdown",
   "metadata": {},
   "source": [
    "The reconstruction is fairly good, but keep in mind this is only done on training data. We have to be able to extend the diffusion net for new points outside of the sample, i.e. test data. "
   ]
  },
  {
   "cell_type": "markdown",
   "metadata": {},
   "source": [
    "### Out of sample extension.\n",
    "One of the main motivations for the Diffusion map is the ability to handle new samples that were not used in the embedding. So we need a model that can encode test data to the right embedding, and be able to reconstruct. \n",
    "\n",
    "We'll use cross-validation to test the behavior for points outside of the sample. For k-folds, the algorithm is the following:\n",
    "\n",
    "1. Compute the embedding for the full data $X$ called $\\Psi$. \n",
    "2. For each fold $X_k$ with index set $I_k = 1\\{i: x_i \\in  X_k\\}$ do the following \n",
    "    1. Train an encoder, $\\tilde{\\Psi}$, on the other $k-1$ folds. \n",
    "    2. Predict the embedding for the left out $X_k$, namely $\\tilde{\\Psi}(X_{I_k})$\n",
    "    3. Compute $\\mathrm{MSE}_k = \\frac{1}{|I_k|}|| \\Psi (X_{I_k}) - \\tilde{\\Psi}(X_{I_k}) || ^2$\n",
    "5. In the end compute the cross validation MSE: $\\mathrm{MSE} = \\frac{1}{k} \\sum_i \\mathrm{MSE}_i$"
   ]
  },
  {
   "cell_type": "markdown",
   "metadata": {},
   "source": [
    "### Classification\n",
    "Now let's train another model that goes from the embedding to a predicted class. We'll use the computed diffusion map as our training data, and use the trained model for the learned embedding for the test data. "
   ]
  },
  {
   "cell_type": "code",
   "execution_count": 213,
   "metadata": {
    "scrolled": true
   },
   "outputs": [
    {
     "name": "stdout",
     "output_type": "stream",
     "text": [
      "Train on 10000 samples, validate on 1000 samples\n",
      "Epoch 1/15\n",
      "10000/10000 [==============================] - 6s 575us/step - loss: 1.1215 - acc: 0.7330 - val_loss: 1.1237 - val_acc: 0.6980\n",
      "Epoch 2/15\n",
      "10000/10000 [==============================] - 1s 88us/step - loss: 0.1178 - acc: 0.9689 - val_loss: 1.0576 - val_acc: 0.7160\n",
      "Epoch 3/15\n",
      "10000/10000 [==============================] - 1s 85us/step - loss: 0.0652 - acc: 0.9832 - val_loss: 1.0257 - val_acc: 0.7050\n",
      "Epoch 4/15\n",
      "10000/10000 [==============================] - 1s 104us/step - loss: 0.0573 - acc: 0.9873 - val_loss: 0.9410 - val_acc: 0.7370\n",
      "Epoch 5/15\n",
      "10000/10000 [==============================] - 1s 95us/step - loss: 0.0687 - acc: 0.9880 - val_loss: 0.9813 - val_acc: 0.6960\n",
      "Epoch 6/15\n",
      "10000/10000 [==============================] - 1s 145us/step - loss: 0.0511 - acc: 0.9915 - val_loss: 0.9356 - val_acc: 0.7200\n",
      "Epoch 7/15\n",
      "10000/10000 [==============================] - 1s 115us/step - loss: 0.0313 - acc: 0.9952 - val_loss: 0.9034 - val_acc: 0.7300\n",
      "Epoch 8/15\n",
      "10000/10000 [==============================] - 2s 153us/step - loss: 0.0285 - acc: 0.9950 - val_loss: 0.8854 - val_acc: 0.7410\n",
      "Epoch 9/15\n",
      "10000/10000 [==============================] - 1s 142us/step - loss: 0.0224 - acc: 0.9967 - val_loss: 0.8773 - val_acc: 0.7380\n",
      "Epoch 10/15\n",
      "10000/10000 [==============================] - 1s 134us/step - loss: 0.0232 - acc: 0.9961 - val_loss: 0.8635 - val_acc: 0.7410\n",
      "Epoch 11/15\n",
      "10000/10000 [==============================] - 1s 98us/step - loss: 0.0239 - acc: 0.9973 - val_loss: 0.8453 - val_acc: 0.7510\n",
      "Epoch 12/15\n",
      "10000/10000 [==============================] - 1s 104us/step - loss: 0.0186 - acc: 0.9973 - val_loss: 0.8355 - val_acc: 0.7490\n",
      "Epoch 13/15\n",
      "10000/10000 [==============================] - 1s 93us/step - loss: 0.0236 - acc: 0.9972 - val_loss: 0.8404 - val_acc: 0.7480\n",
      "Epoch 14/15\n",
      "10000/10000 [==============================] - 1s 95us/step - loss: 0.0243 - acc: 0.9968 - val_loss: 0.8337 - val_acc: 0.7570\n",
      "Epoch 15/15\n",
      "10000/10000 [==============================] - 1s 91us/step - loss: 0.0222 - acc: 0.9978 - val_loss: 0.8483 - val_acc: 0.7400\n"
     ]
    }
   ],
   "source": [
    "encoded_classifier_subsample = Classifier()\n",
    "encoded_classifier_subsample.compile(loss=\"categorical_crossentropy\")\n",
    "encoded_classifier_subsample.train(train_embed, y_train_nn, test_embed, y_test_nn, batch_size=128, epochs=15)"
   ]
  },
  {
   "cell_type": "code",
   "execution_count": 214,
   "metadata": {},
   "outputs": [
    {
     "data": {
      "image/png": "[encoded data removed]",
      "text/plain": [
       "<Figure size 432x288 with 2 Axes>"
      ]
     },
     "metadata": {
      "needs_background": "light"
     },
     "output_type": "display_data"
    }
   ],
   "source": [
    "encoded_classifier_subsample.plot_progress()"
   ]
  },
  {
   "cell_type": "markdown",
   "metadata": {},
   "source": [
    "Well, these are not great results.\n",
    "\n",
    "Let's define a class that wraps up the whole process to make it easy to experiment and hopefully improve on this."
   ]
  },
  {
   "cell_type": "code",
   "execution_count": null,
   "metadata": {},
   "outputs": [],
   "source": []
  }
 ],
 "metadata": {
  "kernelspec": {
   "display_name": "Python 3",
   "language": "python",
   "name": "python3"
  },
  "language_info": {
   "codemirror_mode": {
    "name": "ipython",
    "version": 3
   },
   "file_extension": ".py",
   "mimetype": "text/x-python",
   "name": "python",
   "nbconvert_exporter": "python",
   "pygments_lexer": "ipython3",
   "version": "3.7.3"
  }
 },
 "nbformat": 4,
 "nbformat_minor": 2
}
